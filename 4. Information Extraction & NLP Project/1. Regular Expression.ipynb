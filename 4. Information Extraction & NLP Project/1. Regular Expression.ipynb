{
 "cells": [
  {
   "cell_type": "markdown",
   "id": "8a5ca4a4",
   "metadata": {},
   "source": [
    "Regular expressions to extract  \n",
    "1. all URLs and  \n",
    "2. all keyboard shortcuts (e.g.CRTL+A)\n",
    "\n",
    "\n",
    "From the **firefox discussion forums datasets** from NLTK library (https://www.nltk.org/book/ch02.html)."
   ]
  },
  {
   "cell_type": "code",
   "execution_count": 1,
   "id": "e414879d",
   "metadata": {},
   "outputs": [],
   "source": [
    "import nltk, re"
   ]
  },
  {
   "cell_type": "code",
   "execution_count": 2,
   "id": "ca929435",
   "metadata": {},
   "outputs": [
    {
     "name": "stdout",
     "output_type": "stream",
     "text": [
      "firefox.txt Cookie Manager: \"Don't allow sites that set removed cookies to se ...\n",
      "grail.txt SCENE 1: [wind] [clop clop clop] \n",
      "KING ARTHUR: Whoa there!  [clop ...\n",
      "overheard.txt White guy: So, do you have any plans for this evening?\n",
      "Asian girl ...\n",
      "pirates.txt PIRATES OF THE CARRIBEAN: DEAD MAN'S CHEST, by Ted Elliott & Terr ...\n",
      "singles.txt 25 SEXY MALE, seeks attrac older single lady, for discreet encoun ...\n",
      "wine.txt Lovely delicate, fragrant Rhone wine. Polished leather and strawb ...\n"
     ]
    }
   ],
   "source": [
    "from nltk.corpus import webtext\n",
    "for fileid in webtext.fileids():\n",
    "    print(fileid, webtext.raw(fileid)[:65], '...')"
   ]
  },
  {
   "cell_type": "code",
   "execution_count": 3,
   "id": "5cb3ff12",
   "metadata": {
    "scrolled": true
   },
   "outputs": [
    {
     "name": "stdout",
     "output_type": "stream",
     "text": [
      "Cookie Manager: \"Don't allow sites that set removed cookies to set future cookies\" should stay checked\r\n",
      "When in full screen mode\r\n",
      "Pressing Ctrl-N should open a new browser when only download dialog is left open\r\n",
      "add icons to context menu\r\n",
      "So called \"tab bar\" should be made a proper toolbar or given the ability collapse / expand.\r\n",
      "[XUL] Implement Cocoa-style toolbar customization.\r\n",
      "#ifdefs for MOZ_PHOENIX\r\n",
      "customize dialog's toolbar has small icons when small icons is not checked\r\n",
      "nightly builds and tinderboxen for Phoenix\r\n",
      "finish tearing prefs UI to pieces and then make it not suck\r\n",
      "\"mozbrowser\" script doesn't start correct binary\r\n",
      "Need bookmark groups icon\r\n",
      "Dropping at top of palette box horks things\r\n",
      "keyboard shortcut for Increase Text Size is broken\r\n",
      "default phoenix bookmarks\r\n",
      "[cust] need a toolbar spacer and spring spacer for customize\r\n",
      "Can't launch phoenix while Mozilla is running (or vice versa)\r\n",
      "separator not available when all toolbar items are in toolbar layout\r\n",
      "history menu f\n"
     ]
    }
   ],
   "source": [
    "firefox = webtext.raw(\"firefox.txt\")  # Read firefox txt as raw strings\n",
    "print(firefox[:1000])  # Print first 1000 characters"
   ]
  },
  {
   "cell_type": "code",
   "execution_count": 4,
   "id": "ddb124eb",
   "metadata": {},
   "outputs": [
    {
     "data": {
      "text/plain": [
       "['http://www.scripting.com/misc/msswitchad',\n",
       " 'eweek.com',\n",
       " 'www.foo.com',\n",
       " 'www.localhost.net.au',\n",
       " 'http://www.watch.impress.co.jp',\n",
       " 'download.microsoft.com',\n",
       " 'http://bugzilla.mozilla.org',\n",
       " 'News.com',\n",
       " 'www.*.com',\n",
       " 'www.aol.com',\n",
       " 'www.php.net',\n",
       " 'www.fnac.fr',\n",
       " 'NBA.com',\n",
       " 'http://www.http://mozilla.org',\n",
       " 'www.hvv.de',\n",
       " 't-mobile.com',\n",
       " 'Edmunds.com',\n",
       " 'www.petetownshend.co.uk',\n",
       " 'fark.com',\n",
       " 'www.google.com',\n",
       " 'o2.co.uk',\n",
       " 'www.wamu.com',\n",
       " 'ew.com',\n",
       " 'ford.com',\n",
       " 'amazon.com',\n",
       " 'www.excite.com',\n",
       " 'bbc.co.uk',\n",
       " 'http://www.peterre.com',\n",
       " 'sun.com',\n",
       " 'www.logitech.com',\n",
       " 'www.mozilla.org',\n",
       " 'http://texturizer.net/firebird',\n",
       " 'mail.yahoo.com',\n",
       " 'www.xy.com',\n",
       " 'apple.com',\n",
       " 'Adobe.com',\n",
       " 'Buy.com:',\n",
       " 'FedEx.com',\n",
       " 'iWon.com',\n",
       " 'SmartSource.com',\n",
       " 'http://foo',\n",
       " 'choiceradio.com',\n",
       " 'Bestbuy.com',\n",
       " 'yodobashi.com',\n",
       " 'winamp.com',\n",
       " 'http://http://',\n",
       " 'freebyte.com',\n",
       " 'theaa.com',\n",
       " 'loginnet.passport.com',\n",
       " 'googlesyndication.com',\n",
       " 'foo.com',\n",
       " 'www.blogger.com',\n",
       " 'mail.com',\n",
       " 'vons.com',\n",
       " 'www.pcpitstop.com',\n",
       " 'geocaching.com',\n",
       " 'geocaching.com',\n",
       " 'www.mozilla.org',\n",
       " 'news.com',\n",
       " 'www.zoneedit.com',\n",
       " 'bestbuy.com',\n",
       " 'www.libpr0n.com',\n",
       " 'fark.com',\n",
       " 'www.us.army.mil',\n",
       " 'NYTimes.com',\n",
       " 'SBC.Yahoo.com',\n",
       " 'www.linuxmail.org',\n",
       " 'amazon.com',\n",
       " '1.example.com',\n",
       " '2.example.com',\n",
       " 'online.firstusa.com',\n",
       " 'http://james',\n",
       " 'my.yahoo.com',\n",
       " 'www.debian.org',\n",
       " 'login.yahoo.com',\n",
       " 'www.lexis.com',\n",
       " 'http://www.lexis.com',\n",
       " 'www.m-w.com',\n",
       " 'cube.ign.com',\n",
       " 'HushMail.com',\n",
       " 'http://www.woolworth.de',\n",
       " 'paypal.com',\n",
       " 'www.file.com',\n",
       " 'osnews.com',\n",
       " 'download.com',\n",
       " 'hottopic.com',\n",
       " 'www.alternate.de',\n",
       " 'cheaptickets.com',\n",
       " 'http://ftp.mozilla.org/pub/mozilla.org/firebird/nightly',\n",
       " 'http://http://',\n",
       " 'www.microsoft.com',\n",
       " 'http://extensionroom.mozdev.org/more-info',\n",
       " 'http://www.odeon.co.uk/odeon',\n",
       " 'xxx.yyy.com',\n",
       " 'nfl.com',\n",
       " 'verizonwireless.com',\n",
       " 'dpreview.com',\n",
       " 'koreanair.com',\n",
       " 'mail.yahoo.com',\n",
       " 'Yahoo.com',\n",
       " 'fark.com',\n",
       " 'yyy.yyyyyy.com',\n",
       " 'signonsandiego.com',\n",
       " 'launch.yahoo.com',\n",
       " 'smartmoney.com',\n",
       " 'http://www.cctvusa.com',\n",
       " 'abc.com',\n",
       " 'www.mp3.de',\n",
       " 'outwar.com...but',\n",
       " 'outwar.com.',\n",
       " 'www.domain',\n",
       " 'www.microsoft.com',\n",
       " 'vgpro.com',\n",
       " 'http://www.trenitalia.com/home/it',\n",
       " 'www.rmvplus.de',\n",
       " 'vanguard.com',\n",
       " 'usaa.com',\n",
       " 'Matcheroo.com',\n",
       " 'https://www.fortify.net',\n",
       " 'www.microsoft.com',\n",
       " 'http://irc-galleria.net',\n",
       " 'koss.com',\n",
       " 'blogger.com',\n",
       " 'www.uboot.com',\n",
       " 'google.com',\n",
       " 'http://http',\n",
       " 'microsoft.com',\n",
       " 'www.microsoft.com',\n",
       " 'gametimesonline.com',\n",
       " 'http://www.mozilla.org/products',\n",
       " 'www.lycos.co.uk',\n",
       " 'tylock.com',\n",
       " 'www.calciomercato.com',\n",
       " 'allposters.com',\n",
       " 'http://labs.google.com/cgi-bin',\n",
       " 'www.odeon.co.uk/odeon',\n",
       " 'AOL.com',\n",
       " 'www.atozwebtools.com',\n",
       " 'pcworld.co.uk',\n",
       " 'campusi.com',\n",
       " 'mycard.fleet.com/cma',\n",
       " 'yahoo.com',\n",
       " 'www.X.com',\n",
       " 'http://www.timbressuisses.ch',\n",
       " 'www.vipernetworks.com',\n",
       " 'https://www.eposasp.com/ebpp',\n",
       " 'ulasponsel.com',\n",
       " 'www.yahoo.com',\n",
       " 'rottentomatoes.com',\n",
       " 'www.intellicast.com',\n",
       " 'www.w3c.org',\n",
       " 'gay.com',\n",
       " 'SitePoint.com',\n",
       " 'MyNetscape.com']"
      ]
     },
     "execution_count": 4,
     "metadata": {},
     "output_type": "execute_result"
    }
   ],
   "source": [
    "# 1. Extract all URL\n",
    "# Define regex pattern for URLs\n",
    "url_pattern = r\"https?://[^\\s<>\\\"'\\(\\)]+|www\\.[^\\s<>\\\"'\\(\\)]+|[^\\s<>\\\"'\\(\\)]*\\.co\\.[^\\s<>\\\"'\\(\\)]+|[^\\s<>\\\"'\\(\\)]+\\.com[^\\s<>\\\"'\\(\\)]*\"\n",
    "\n",
    "# Extract URLs by applying regex to each word\n",
    "urls = re.findall(url_pattern, firefox)\n",
    "urls"
   ]
  },
  {
   "cell_type": "markdown",
   "id": "07218199",
   "metadata": {},
   "source": [
    "1. Matching URLs Starting with http:// or https://\n",
    "2. Matching URLs Starting with www.\n",
    "3. Matching URLs Containing .co.\n",
    "4. Matching URLs Containing .com but avoiding standalone \".com\"\n",
    "5. Does NOT match (www.wamu.com), ensuring brackets are ignored.\t"
   ]
  },
  {
   "cell_type": "code",
   "execution_count": 5,
   "id": "e848fcf9",
   "metadata": {},
   "outputs": [
    {
     "data": {
      "text/plain": [
       "['ALT+F',\n",
       " 'CTRL+click',\n",
       " 'CTRL+F',\n",
       " 'ALT+D',\n",
       " 'CTRL+Enter',\n",
       " 'ALT+d',\n",
       " 'CTRL+K',\n",
       " 'CTRL+E',\n",
       " 'CTRL+Y',\n",
       " 'CTRL+L',\n",
       " 'ALT+F',\n",
       " 'CTRL+Backspace',\n",
       " 'CTRL+B',\n",
       " 'CTRL+I',\n",
       " 'CTRL+PGUP',\n",
       " 'CTRL+Y',\n",
       " 'CTRL+E',\n",
       " 'CTRL+TAB',\n",
       " 'CTRL+ALT']"
      ]
     },
     "execution_count": 5,
     "metadata": {},
     "output_type": "execute_result"
    }
   ],
   "source": [
    "# 2. Extract all keyboard Shortcut\n",
    "shortcut_pattern = r\"\\b(?:CTRL|SHIFT|ALT|CMD|CMD\\+|SUPER|WIN|META)\\+[\\w\\d]+\\b\"\n",
    "\n",
    "# Extract shortcuts\n",
    "shortcuts = re.findall(shortcut_pattern, firefox)\n",
    "shortcuts"
   ]
  },
  {
   "cell_type": "code",
   "execution_count": null,
   "id": "c61d7ac0",
   "metadata": {},
   "outputs": [],
   "source": []
  }
 ],
 "metadata": {
  "kernelspec": {
   "display_name": "Python 3 (ipykernel)",
   "language": "python",
   "name": "python3"
  },
  "language_info": {
   "codemirror_mode": {
    "name": "ipython",
    "version": 3
   },
   "file_extension": ".py",
   "mimetype": "text/x-python",
   "name": "python",
   "nbconvert_exporter": "python",
   "pygments_lexer": "ipython3",
   "version": "3.11.5"
  }
 },
 "nbformat": 4,
 "nbformat_minor": 5
}

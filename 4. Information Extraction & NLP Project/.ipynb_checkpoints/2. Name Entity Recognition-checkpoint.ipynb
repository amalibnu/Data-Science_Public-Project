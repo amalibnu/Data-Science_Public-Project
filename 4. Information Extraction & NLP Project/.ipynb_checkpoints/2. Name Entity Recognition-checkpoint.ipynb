{
 "cells": [
  {
   "cell_type": "markdown",
   "id": "991d51da",
   "metadata": {},
   "source": [
    "Find out how many different persons are in the **Hamlet corpus**.  \n",
    "How many if you use the 3, 4 and 7-classes tagger?"
   ]
  },
  {
   "cell_type": "code",
   "execution_count": 1,
   "id": "6cecedbc",
   "metadata": {},
   "outputs": [],
   "source": [
    "import nltk, re\n",
    "hamlet = nltk.corpus.gutenberg.words('shakespeare-hamlet.txt')"
   ]
  },
  {
   "cell_type": "code",
   "execution_count": 2,
   "id": "847a8b44",
   "metadata": {},
   "outputs": [
    {
     "name": "stdout",
     "output_type": "stream",
     "text": [
      "<nltk.tag.stanford.StanfordNERTagger object at 0x000001FF2E451D50>\n",
      "<nltk.tag.stanford.StanfordNERTagger object at 0x000001FF2A6AD990>\n",
      "<nltk.tag.stanford.StanfordNERTagger object at 0x000001FF2E4505D0>\n"
     ]
    }
   ],
   "source": [
    "from nltk.tag import StanfordNERTagger\n",
    "from nltk.tokenize import word_tokenize\n",
    "\n",
    "jar_location = r\"C:\\Users\\flexi\\Documents\\stanford-ner-2020-11-17\\stanford-ner.jar\"\n",
    "model_location_3classes = r\"C:\\Users\\flexi\\Documents\\stanford-ner-2020-11-17\\classifiers\\english.all.3class.distsim.crf.ser.gz\"\n",
    "model_location_4classes = r\"C:\\Users\\flexi\\Documents\\stanford-ner-2020-11-17\\classifiers\\english.conll.4class.distsim.crf.ser.gz\"\n",
    "model_location_7classes = r\"C:\\Users\\flexi\\Documents\\stanford-ner-2020-11-17\\classifiers\\english.muc.7class.distsim.crf.ser.gz\"\n",
    "st3 = StanfordNERTagger(model_location_3classes,jar_location,encoding='utf-8')\n",
    "st4 = StanfordNERTagger(model_location_4classes,jar_location,encoding='utf-8')\n",
    "st7 = StanfordNERTagger(model_location_7classes,jar_location,encoding='utf-8')\n",
    "\n",
    "print(st3)\n",
    "print(st4)\n",
    "print(st7)"
   ]
  },
  {
   "cell_type": "code",
   "execution_count": 3,
   "id": "d11a8a70",
   "metadata": {},
   "outputs": [
    {
     "name": "stdout",
     "output_type": "stream",
     "text": [
      "JAVAHOME: C:\\Program Files\\Eclipse Adoptium\\jdk-11.0.25.9-hotspot\n"
     ]
    },
    {
     "name": "stderr",
     "output_type": "stream",
     "text": [
      "openjdk version \"11.0.25\" 2024-10-15\n",
      "OpenJDK Runtime Environment Temurin-11.0.25+9 (build 11.0.25+9)\n",
      "OpenJDK 64-Bit Server VM Temurin-11.0.25+9 (build 11.0.25+9, mixed mode)\n"
     ]
    }
   ],
   "source": [
    "import os\n",
    "\n",
    "# Manually set JAVAHOME inside Jupyter\n",
    "os.environ[\"JAVAHOME\"] = r\"C:\\Program Files\\Eclipse Adoptium\\jdk-11.0.25.9-hotspot\"\n",
    "\n",
    "# Verify if JAVAHOME is set correctly\n",
    "print(\"JAVAHOME:\", os.environ.get(\"JAVAHOME\"))\n",
    "\n",
    "# Check if Java is accessible\n",
    "!java -version"
   ]
  },
  {
   "cell_type": "code",
   "execution_count": 4,
   "id": "9def7349",
   "metadata": {},
   "outputs": [
    {
     "name": "stdout",
     "output_type": "stream",
     "text": [
      "[('[', 'O'), ('The', 'O'), ('Tragedie', 'O'), ('of', 'O'), ('Hamlet', 'O'), ('by', 'O'), ('William', 'PERSON'), ('Shakespeare', 'PERSON'), ('1599', 'O'), (']', 'O'), ('Actus', 'O'), ('Primus', 'O'), ('.', 'O'), ('Scoena', 'O'), ('Prima', 'O'), ('.', 'O'), ('Enter', 'O'), ('Barnardo', 'PERSON'), ('and', 'O'), ('Francisco', 'O'), ('two', 'O'), ('Centinels', 'O'), ('.', 'O'), ('Barnardo', 'O'), ('.', 'O'), ('Who', 'O'), (\"'\", 'O'), ('s', 'O'), ('there', 'O'), ('?', 'O'), ('Fran', 'O'), ('.', 'O'), ('Nay', 'O'), ('answer', 'O'), ('me', 'O'), (':', 'O'), ('Stand', 'O'), ('&', 'O'), ('vnfold', 'O'), ('your', 'O'), ('selfe', 'O'), ('Bar', 'O'), ('.', 'O'), ('Long', 'O'), ('liue', 'O'), ('the', 'O'), ('King', 'ORGANIZATION'), ('Fran', 'ORGANIZATION'), ('.', 'O'), ('Barnardo', 'O')]\n"
     ]
    }
   ],
   "source": [
    "hamlet_ner3 = st3.tag(hamlet)\n",
    "hamlet_ner4 = st4.tag(hamlet)\n",
    "hamlet_ner7 = st7.tag(hamlet)\n",
    "\n",
    "print(hamlet_ner7[:50])"
   ]
  },
  {
   "cell_type": "markdown",
   "id": "8dc8f2bd",
   "metadata": {},
   "source": [
    "### Calculate non-unique persons per class tagger"
   ]
  },
  {
   "cell_type": "code",
   "execution_count": 5,
   "id": "e743313b",
   "metadata": {},
   "outputs": [],
   "source": [
    "persons_ner3 = sum(1 for word, label in hamlet_ner3 if label == 'PERSON')\n",
    "persons_ner4 = sum(1 for word, label in hamlet_ner4 if label == 'PERSON')\n",
    "persons_ner7 = sum(1 for word, label in hamlet_ner7 if label == 'PERSON')"
   ]
  },
  {
   "cell_type": "code",
   "execution_count": 6,
   "id": "00febe1f",
   "metadata": {},
   "outputs": [
    {
     "name": "stdout",
     "output_type": "stream",
     "text": [
      "Number of persons appear in hamlet text using 3-class tagger NER are: 846\n",
      "Number of persons appear in hamlet text using 4-class tagger NER are: 1063\n",
      "Number of persons appear in hamlet text using 7-class tagger NER are: 375\n"
     ]
    }
   ],
   "source": [
    "print(f\"Number of persons appear in hamlet text using 3-class tagger NER are: {persons_ner3}\")\n",
    "print(f\"Number of persons appear in hamlet text using 4-class tagger NER are: {persons_ner4}\")\n",
    "print(f\"Number of persons appear in hamlet text using 7-class tagger NER are: {persons_ner7}\")"
   ]
  },
  {
   "cell_type": "markdown",
   "id": "091fc53e",
   "metadata": {},
   "source": [
    "### Calculate unique persons per class tagger"
   ]
  },
  {
   "cell_type": "code",
   "execution_count": 7,
   "id": "21f39ddc",
   "metadata": {},
   "outputs": [],
   "source": [
    "unique_persons_ner3 = {word for word, label in hamlet_ner3 if label == 'PERSON'}\n",
    "unique_persons_ner4 = {word for word, label in hamlet_ner4 if label == 'PERSON'}\n",
    "unique_persons_ner7 = {word for word, label in hamlet_ner7 if label == 'PERSON'}"
   ]
  },
  {
   "cell_type": "code",
   "execution_count": 9,
   "id": "f1769a4d",
   "metadata": {},
   "outputs": [
    {
     "name": "stdout",
     "output_type": "stream",
     "text": [
      "Number of unique persons appear in hamlet text using 3-class tagger NER are: 309\n",
      "Number of unique persons appear in hamlet text using 4-class tagger NER are: 498\n",
      "Number of unique persons appear in hamlet text using 7-class tagger NER are: 226\n"
     ]
    }
   ],
   "source": [
    "print(f\"Number of unique persons appear in hamlet text using 3-class tagger NER are: {len(unique_persons_ner3)}\")\n",
    "print(f\"Number of unique persons appear in hamlet text using 4-class tagger NER are: {len(unique_persons_ner4)}\")\n",
    "print(f\"Number of unique persons appear in hamlet text using 7-class tagger NER are: {len(unique_persons_ner7)}\")"
   ]
  }
 ],
 "metadata": {
  "kernelspec": {
   "display_name": "Python 3 (ipykernel)",
   "language": "python",
   "name": "python3"
  },
  "language_info": {
   "codemirror_mode": {
    "name": "ipython",
    "version": 3
   },
   "file_extension": ".py",
   "mimetype": "text/x-python",
   "name": "python",
   "nbconvert_exporter": "python",
   "pygments_lexer": "ipython3",
   "version": "3.11.5"
  }
 },
 "nbformat": 4,
 "nbformat_minor": 5
}
